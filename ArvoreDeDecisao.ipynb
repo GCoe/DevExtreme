{
  "nbformat": 4,
  "nbformat_minor": 0,
  "metadata": {
    "colab": {
      "name": "ArvoreDeDecisao.ipynb",
      "version": "0.3.2",
      "provenance": [],
      "collapsed_sections": [],
      "include_colab_link": true
    },
    "kernelspec": {
      "name": "python2",
      "display_name": "Python 2"
    }
  },
  "cells": [
    {
      "cell_type": "markdown",
      "metadata": {
        "id": "view-in-github",
        "colab_type": "text"
      },
      "source": [
        "<a href=\"https://colab.research.google.com/github/GCoe/DevExtreme/blob/16_2/ArvoreDeDecisao.ipynb\" target=\"_parent\"><img src=\"https://colab.research.google.com/assets/colab-badge.svg\" alt=\"Open In Colab\"/></a>"
      ]
    },
    {
      "metadata": {
        "id": "PZsNmr-O-l5P",
        "colab_type": "code",
        "colab": {}
      },
      "cell_type": "code",
      "source": [
        "from sklearn import tree\n"
      ],
      "execution_count": 0,
      "outputs": []
    },
    {
      "metadata": {
        "id": "ZUYgSeVU-ylq",
        "colab_type": "code",
        "colab": {}
      },
      "cell_type": "code",
      "source": [
        "#Vamos definir aqui algumas medidas e relacionando as mesmas com homens e mulheres\n",
        "# Peso, Altura , Tamanho do sapato\n",
        "\n",
        "Medidas = [[80,180,44] , [55,170,38] , [62,170,37], [72,178,40], [85,179,42],[52,160,37],[55,172,39],[71,177,40]]\n",
        "\n",
        "#As definições informando se a medida é de homem ou mulher são passadas na ordem correspondente às medidas apresentadas\n",
        "HomemOuMulherRelacionadoAsMedidas = ['homem',       'mulher',     'mulher',      'homem',     'homem',   'mulher',  'mulher',     'homem']\n"
      ],
      "execution_count": 0,
      "outputs": []
    },
    {
      "metadata": {
        "id": "zsZpFiWt_yXQ",
        "colab_type": "code",
        "colab": {}
      },
      "cell_type": "code",
      "source": [
        "classificador = tree.DecisionTreeClassifier()\n"
      ],
      "execution_count": 0,
      "outputs": []
    },
    {
      "metadata": {
        "id": "DA0B260p_8EH",
        "colab_type": "code",
        "colab": {
          "base_uri": "https://localhost:8080/",
          "height": 34
        },
        "outputId": "ab14a802-4c30-426b-a6f5-3e16a4a0f977"
      },
      "cell_type": "code",
      "source": [
        "#Vamos agora treinar o classificador com as informações que temos. A partir daí o mesmo estará pronto para tentar definir o sexo para novas medidas que apresentarmos\n",
        "classificador = classificador.fit(Medidas,HomemOuMulherRelacionadoAsMedidas)\n",
        "\n",
        "#Na linha a seguir vamos definir as medidas de uma pessoa até agora desconhecida, para que o programa nos diga se o padrão com base nos padrões que apresentamos anteriormente, é de um homem ou de uma mulher\n",
        "MedidasParaPrever = [[52,165,35]]\n",
        "\n",
        "#Para rodar o programa click em Runtime -> Run all\n",
        "\n",
        "previsao = classificador.predict(MedidasParaPrever)\n",
        "print (previsao)"
      ],
      "execution_count": 16,
      "outputs": [
        {
          "output_type": "stream",
          "text": [
            "['mulher']\n"
          ],
          "name": "stdout"
        }
      ]
    },
    {
      "metadata": {
        "id": "gHMFUXsUGgZU",
        "colab_type": "text"
      },
      "cell_type": "markdown",
      "source": [
        ""
      ]
    }
  ]
}